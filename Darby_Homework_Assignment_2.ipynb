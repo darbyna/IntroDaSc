{
 "cells": [
  {
   "cell_type": "markdown",
   "metadata": {},
   "source": [
    "# HOMEWORK: Assignment 2 for Niko Darby \n",
    "\n",
    "1. Write a function that returns the count of characters and words in a string. The string is provided to the function as an argument.  Submit a .ipynb file via Blackboard. \n",
    "2. Write a function that takes a list as the argument and returns a list with each element shifted right by one index. \n",
    "For example, [3, 7, 4, 1] becomes [1, 3, 7, 4]. Submit a .ipynb file via Blackboard. \n",
    "\n",
    "3. Download data in CSV format from one of the following sites: here or here. Load the data into a Pandas dataframe. Use Pandas to count the number of rows of data and number of columns. Your selection of a CSV should have at least 2 columns and at least 10 rows. Include a link to the data source in the Juptyer notebook you submit."
   ]
  },
  {
   "cell_type": "markdown",
   "metadata": {},
   "source": [
    "# TASK 1"
   ]
  },
  {
   "cell_type": "markdown",
   "metadata": {},
   "source": [
    "#### Sources used for aid: \n",
    "#### https://stackoverflow.com/questions/16060899/alphabet-range-in-python (Understanding alphabets in Python)\n",
    "#### https://stackoverflow.com/questions/1155617/count-the-number-occurrences-of-a-character-in-a-string (Learning different ways to count strings in Python)\n",
    "#### https://www.geeksforgeeks.org/python-string-count/ (Learning about the count function)"
   ]
  },
  {
   "cell_type": "code",
   "execution_count": 247,
   "metadata": {},
   "outputs": [],
   "source": [
    "import pandas as pd\n",
    "def WordPower(Power_Sentence):\n",
    "        \"\"\"The WordPower function will eradicate anything that is not\n",
    "           a character or word from your list!\"\"\"\n",
    "        a = Power_Sentence \n",
    "        d = list(Power_Sentence)\n",
    "        if \" \" in d:\n",
    "            d.remove(\" \")\n",
    "            if ' ' in d:\n",
    "                d.remove(' ')\n",
    "                Y = len(d)\n",
    "                print('Character Count:', Y)\n",
    "        if Power_Sentence in Power_Sentence:\n",
    "            z = len(Power_Sentence.split())\n",
    "            print('Word Count:', z)    "
   ]
  },
  {
   "cell_type": "code",
   "execution_count": 58,
   "metadata": {},
   "outputs": [],
   "source": [
    "string_cat = \"The Destiny of Mankind Awaits In The Future of Machines\""
   ]
  },
  {
   "cell_type": "code",
   "execution_count": 3,
   "metadata": {},
   "outputs": [],
   "source": [
    "string_mouse = \"Hello there Terrathion\""
   ]
  },
  {
   "cell_type": "code",
   "execution_count": 122,
   "metadata": {
    "scrolled": true
   },
   "outputs": [
    {
     "name": "stdout",
     "output_type": "stream",
     "text": [
      "Character Count: 20\n",
      "Word Count: 3\n"
     ]
    }
   ],
   "source": [
    "WordPower(string_mouse)"
   ]
  },
  {
   "cell_type": "code",
   "execution_count": 120,
   "metadata": {},
   "outputs": [
    {
     "name": "stdout",
     "output_type": "stream",
     "text": [
      "Character Count: 54\n",
      "Word Count: 10\n"
     ]
    }
   ],
   "source": [
    "WordPower(string_cat)"
   ]
  },
  {
   "cell_type": "markdown",
   "metadata": {},
   "source": [
    "# TASK 2"
   ]
  },
  {
   "cell_type": "markdown",
   "metadata": {},
   "source": [
    "#### Sources used for aid: \n",
    "#### https://realpython.com/lessons/indexing-and-slicing/ (Indexing Refresher)\n",
    "#### https://stackoverflow.com/questions/2150108/efficient-way-to-rotate-a-list-in-python (examples of index shifting)\n"
   ]
  },
  {
   "cell_type": "code",
   "execution_count": 245,
   "metadata": {},
   "outputs": [],
   "source": [
    "sample_list = [3,7,4,1] #Example set from the prompt"
   ]
  },
  {
   "cell_type": "code",
   "execution_count": 246,
   "metadata": {},
   "outputs": [],
   "source": [
    "def SuperShifter(index2, x):\n",
    "    \"\"\"The SuperShifter will shift the values in your index impeccably. Simply set your list as \n",
    "       the first argument and then a value (integer) as the second argument that represents how\n",
    "       far you want to shift.\"\"\"\n",
    "    index2 = index2\n",
    "    f = index2[x+0:]\n",
    "    l = index2[:x+0]\n",
    "    y = f + l \n",
    "    return y"
   ]
  },
  {
   "cell_type": "code",
   "execution_count": 244,
   "metadata": {
    "scrolled": true
   },
   "outputs": [
    {
     "data": {
      "text/plain": [
       "[1, 3, 7, 4]"
      ]
     },
     "execution_count": 244,
     "metadata": {},
     "output_type": "execute_result"
    }
   ],
   "source": [
    "SuperShifter(sample_list, 3) #Recapitulation of the prompt results"
   ]
  },
  {
   "cell_type": "markdown",
   "metadata": {},
   "source": [
    "# TASK 3"
   ]
  },
  {
   "cell_type": "markdown",
   "metadata": {},
   "source": [
    "#### Sources used for aid:\n",
    "## https://blackboard.umbc.edu/ultra/courses/_60159_1/cl/outline (Extraction: CSV file location)."
   ]
  },
  {
   "cell_type": "code",
   "execution_count": 234,
   "metadata": {},
   "outputs": [
    {
     "data": {
      "text/html": [
       "<div>\n",
       "<style scoped>\n",
       "    .dataframe tbody tr th:only-of-type {\n",
       "        vertical-align: middle;\n",
       "    }\n",
       "\n",
       "    .dataframe tbody tr th {\n",
       "        vertical-align: top;\n",
       "    }\n",
       "\n",
       "    .dataframe thead th {\n",
       "        text-align: right;\n",
       "    }\n",
       "</style>\n",
       "<table border=\"1\" class=\"dataframe\">\n",
       "  <thead>\n",
       "    <tr style=\"text-align: right;\">\n",
       "      <th></th>\n",
       "      <th>Name</th>\n",
       "      <th>\"Sex\"</th>\n",
       "      <th>\"Age\"</th>\n",
       "      <th>\"Height (in)\"</th>\n",
       "      <th>\"Weight (lbs)\"</th>\n",
       "    </tr>\n",
       "  </thead>\n",
       "  <tbody>\n",
       "    <tr>\n",
       "      <th>0</th>\n",
       "      <td>Alex</td>\n",
       "      <td>\"M\"</td>\n",
       "      <td>41</td>\n",
       "      <td>74</td>\n",
       "      <td>170</td>\n",
       "    </tr>\n",
       "    <tr>\n",
       "      <th>1</th>\n",
       "      <td>Bert</td>\n",
       "      <td>\"M\"</td>\n",
       "      <td>42</td>\n",
       "      <td>68</td>\n",
       "      <td>166</td>\n",
       "    </tr>\n",
       "    <tr>\n",
       "      <th>2</th>\n",
       "      <td>Carl</td>\n",
       "      <td>\"M\"</td>\n",
       "      <td>32</td>\n",
       "      <td>70</td>\n",
       "      <td>155</td>\n",
       "    </tr>\n",
       "    <tr>\n",
       "      <th>3</th>\n",
       "      <td>Dave</td>\n",
       "      <td>\"M\"</td>\n",
       "      <td>39</td>\n",
       "      <td>72</td>\n",
       "      <td>167</td>\n",
       "    </tr>\n",
       "    <tr>\n",
       "      <th>4</th>\n",
       "      <td>Elly</td>\n",
       "      <td>\"F\"</td>\n",
       "      <td>30</td>\n",
       "      <td>66</td>\n",
       "      <td>124</td>\n",
       "    </tr>\n",
       "    <tr>\n",
       "      <th>5</th>\n",
       "      <td>Fran</td>\n",
       "      <td>\"F\"</td>\n",
       "      <td>33</td>\n",
       "      <td>66</td>\n",
       "      <td>115</td>\n",
       "    </tr>\n",
       "    <tr>\n",
       "      <th>6</th>\n",
       "      <td>Gwen</td>\n",
       "      <td>\"F\"</td>\n",
       "      <td>26</td>\n",
       "      <td>64</td>\n",
       "      <td>121</td>\n",
       "    </tr>\n",
       "    <tr>\n",
       "      <th>7</th>\n",
       "      <td>Hank</td>\n",
       "      <td>\"M\"</td>\n",
       "      <td>30</td>\n",
       "      <td>71</td>\n",
       "      <td>158</td>\n",
       "    </tr>\n",
       "    <tr>\n",
       "      <th>8</th>\n",
       "      <td>Ivan</td>\n",
       "      <td>\"M\"</td>\n",
       "      <td>53</td>\n",
       "      <td>72</td>\n",
       "      <td>175</td>\n",
       "    </tr>\n",
       "    <tr>\n",
       "      <th>9</th>\n",
       "      <td>Jake</td>\n",
       "      <td>\"M\"</td>\n",
       "      <td>32</td>\n",
       "      <td>69</td>\n",
       "      <td>143</td>\n",
       "    </tr>\n",
       "    <tr>\n",
       "      <th>10</th>\n",
       "      <td>Kate</td>\n",
       "      <td>\"F\"</td>\n",
       "      <td>47</td>\n",
       "      <td>69</td>\n",
       "      <td>139</td>\n",
       "    </tr>\n",
       "    <tr>\n",
       "      <th>11</th>\n",
       "      <td>Luke</td>\n",
       "      <td>\"M\"</td>\n",
       "      <td>34</td>\n",
       "      <td>72</td>\n",
       "      <td>163</td>\n",
       "    </tr>\n",
       "    <tr>\n",
       "      <th>12</th>\n",
       "      <td>Myra</td>\n",
       "      <td>\"F\"</td>\n",
       "      <td>23</td>\n",
       "      <td>62</td>\n",
       "      <td>98</td>\n",
       "    </tr>\n",
       "    <tr>\n",
       "      <th>13</th>\n",
       "      <td>Neil</td>\n",
       "      <td>\"M\"</td>\n",
       "      <td>36</td>\n",
       "      <td>75</td>\n",
       "      <td>160</td>\n",
       "    </tr>\n",
       "    <tr>\n",
       "      <th>14</th>\n",
       "      <td>Omar</td>\n",
       "      <td>\"M\"</td>\n",
       "      <td>38</td>\n",
       "      <td>70</td>\n",
       "      <td>145</td>\n",
       "    </tr>\n",
       "    <tr>\n",
       "      <th>15</th>\n",
       "      <td>Page</td>\n",
       "      <td>\"F\"</td>\n",
       "      <td>31</td>\n",
       "      <td>67</td>\n",
       "      <td>135</td>\n",
       "    </tr>\n",
       "    <tr>\n",
       "      <th>16</th>\n",
       "      <td>Quin</td>\n",
       "      <td>\"M\"</td>\n",
       "      <td>29</td>\n",
       "      <td>71</td>\n",
       "      <td>176</td>\n",
       "    </tr>\n",
       "    <tr>\n",
       "      <th>17</th>\n",
       "      <td>Ruth</td>\n",
       "      <td>\"F\"</td>\n",
       "      <td>28</td>\n",
       "      <td>65</td>\n",
       "      <td>131</td>\n",
       "    </tr>\n",
       "  </tbody>\n",
       "</table>\n",
       "</div>"
      ],
      "text/plain": [
       "    Name       \"Sex\"   \"Age\"   \"Height (in)\"   \"Weight (lbs)\"\n",
       "0   Alex         \"M\"      41              74              170\n",
       "1   Bert         \"M\"      42              68              166\n",
       "2   Carl         \"M\"      32              70              155\n",
       "3   Dave         \"M\"      39              72              167\n",
       "4   Elly         \"F\"      30              66              124\n",
       "5   Fran         \"F\"      33              66              115\n",
       "6   Gwen         \"F\"      26              64              121\n",
       "7   Hank         \"M\"      30              71              158\n",
       "8   Ivan         \"M\"      53              72              175\n",
       "9   Jake         \"M\"      32              69              143\n",
       "10  Kate         \"F\"      47              69              139\n",
       "11  Luke         \"M\"      34              72              163\n",
       "12  Myra         \"F\"      23              62               98\n",
       "13  Neil         \"M\"      36              75              160\n",
       "14  Omar         \"M\"      38              70              145\n",
       "15  Page         \"F\"      31              67              135\n",
       "16  Quin         \"M\"      29              71              176\n",
       "17  Ruth         \"F\"      28              65              131"
      ]
     },
     "execution_count": 234,
     "metadata": {},
     "output_type": "execute_result"
    }
   ],
   "source": [
    "import pandas as pd\n",
    "\n",
    "ultra_data = pd.read_csv(r'biostats.csv')\n",
    "ultra_data"
   ]
  },
  {
   "cell_type": "code",
   "execution_count": 243,
   "metadata": {},
   "outputs": [
    {
     "name": "stdout",
     "output_type": "stream",
     "text": [
      "Rows: 18 | Columns: 5\n"
     ]
    }
   ],
   "source": [
    "nura = list(ultra_data.shape)\n",
    "print('Rows:',nura[0], '|', 'Columns:', nura[1])"
   ]
  }
 ],
 "metadata": {
  "kernelspec": {
   "display_name": "Python 3",
   "language": "python",
   "name": "python3"
  },
  "language_info": {
   "codemirror_mode": {
    "name": "ipython",
    "version": 3
   },
   "file_extension": ".py",
   "mimetype": "text/x-python",
   "name": "python",
   "nbconvert_exporter": "python",
   "pygments_lexer": "ipython3",
   "version": "3.7.6"
  }
 },
 "nbformat": 4,
 "nbformat_minor": 4
}
