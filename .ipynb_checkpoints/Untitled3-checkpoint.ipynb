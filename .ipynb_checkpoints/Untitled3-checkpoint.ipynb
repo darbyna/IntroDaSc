{
 "cells": [
  {
   "cell_type": "markdown",
   "metadata": {},
   "source": [
    "# Homework for Niko Darby 10/19/2020"
   ]
  },
  {
   "cell_type": "markdown",
   "metadata": {},
   "source": [
    "<b> Assignment 1: </b> \n",
    "- Acquire power data (source) for at least 10 days and not more than 40 days. Load the data into a Jupyter Notebook. Create two bar graphs of the power consumption per hour. One bar graph has 24 bars; one bar graph has 24*(number of days) bars. Submit the .ipynb file containing the analysis and the generated pictures.\n",
    "\n",
    "\n",
    "\n",
    "\n",
    "<b> Assignment 2: </b> \n",
    "- Simulate a fair die and a biased 6-sided die. The biased die has probabilities {0.15, 0.15, 0.15, 0.15, 0.15, 0.25}. Create a visualization that compares outcomes of multiple rolls of a fair die and this biased die. You can use a single visualization or multiple visualizations to demonstrate the difference in outcomes for the dice. The user of your notebook should be able to alter the number of simulations as an argument to a function. (Help on visualization)"
   ]
  },
  {
   "cell_type": "markdown",
   "metadata": {},
   "source": [
    "# -------------------------------------------------------------------------"
   ]
  },
  {
   "cell_type": "markdown",
   "metadata": {},
   "source": [
    "#### For Assignment 1, import the power data:"
   ]
  },
  {
   "cell_type": "markdown",
   "metadata": {},
   "source": [
    "##### Data Source (Niko Darby is not the owner of this data, Darby is simply using this data for the homework assignment): https://www.bmreports.com/bmrs/?q=demand/rollingsystemdemand"
   ]
  },
  {
   "cell_type": "code",
   "execution_count": 1,
   "metadata": {},
   "outputs": [
    {
     "data": {
      "text/html": [
       "<div>\n",
       "<style scoped>\n",
       "    .dataframe tbody tr th:only-of-type {\n",
       "        vertical-align: middle;\n",
       "    }\n",
       "\n",
       "    .dataframe tbody tr th {\n",
       "        vertical-align: top;\n",
       "    }\n",
       "\n",
       "    .dataframe thead th {\n",
       "        text-align: right;\n",
       "    }\n",
       "</style>\n",
       "<table border=\"1\" class=\"dataframe\">\n",
       "  <thead>\n",
       "    <tr style=\"text-align: right;\">\n",
       "      <th></th>\n",
       "      <th>HDR</th>\n",
       "      <th>ROLLING SYSTEM DEMAND</th>\n",
       "    </tr>\n",
       "  </thead>\n",
       "  <tbody>\n",
       "    <tr>\n",
       "      <th>VD</th>\n",
       "      <td>20201007000000</td>\n",
       "      <td>21753.0</td>\n",
       "    </tr>\n",
       "    <tr>\n",
       "      <th>VD</th>\n",
       "      <td>20201007000500</td>\n",
       "      <td>21789.0</td>\n",
       "    </tr>\n",
       "    <tr>\n",
       "      <th>VD</th>\n",
       "      <td>20201007001000</td>\n",
       "      <td>21864.0</td>\n",
       "    </tr>\n",
       "    <tr>\n",
       "      <th>VD</th>\n",
       "      <td>20201007001500</td>\n",
       "      <td>21950.0</td>\n",
       "    </tr>\n",
       "    <tr>\n",
       "      <th>VD</th>\n",
       "      <td>20201007002000</td>\n",
       "      <td>21880.0</td>\n",
       "    </tr>\n",
       "    <tr>\n",
       "      <th>...</th>\n",
       "      <td>...</td>\n",
       "      <td>...</td>\n",
       "    </tr>\n",
       "    <tr>\n",
       "      <th>VD</th>\n",
       "      <td>20201013222000</td>\n",
       "      <td>24683.0</td>\n",
       "    </tr>\n",
       "    <tr>\n",
       "      <th>VD</th>\n",
       "      <td>20201013222500</td>\n",
       "      <td>24571.0</td>\n",
       "    </tr>\n",
       "    <tr>\n",
       "      <th>VD</th>\n",
       "      <td>20201013223000</td>\n",
       "      <td>24644.0</td>\n",
       "    </tr>\n",
       "    <tr>\n",
       "      <th>VD</th>\n",
       "      <td>20201013223500</td>\n",
       "      <td>24587.0</td>\n",
       "    </tr>\n",
       "    <tr>\n",
       "      <th>FTR</th>\n",
       "      <td>2000</td>\n",
       "      <td>NaN</td>\n",
       "    </tr>\n",
       "  </tbody>\n",
       "</table>\n",
       "<p>2001 rows × 2 columns</p>\n",
       "</div>"
      ],
      "text/plain": [
       "                HDR  ROLLING SYSTEM DEMAND\n",
       "VD   20201007000000                21753.0\n",
       "VD   20201007000500                21789.0\n",
       "VD   20201007001000                21864.0\n",
       "VD   20201007001500                21950.0\n",
       "VD   20201007002000                21880.0\n",
       "..              ...                    ...\n",
       "VD   20201013222000                24683.0\n",
       "VD   20201013222500                24571.0\n",
       "VD   20201013223000                24644.0\n",
       "VD   20201013223500                24587.0\n",
       "FTR            2000                    NaN\n",
       "\n",
       "[2001 rows x 2 columns]"
      ]
     },
     "execution_count": 1,
     "metadata": {},
     "output_type": "execute_result"
    }
   ],
   "source": [
    "import pandas as pd\n",
    "import numpy as np \n",
    "import matplotlib.pyplot as plt \n",
    "import seaborn as sb\n",
    "\n",
    "power_data1 = pd.read_csv(r'RollingSystemDemand_20201018_2112.csv')\n",
    "power_data1"
   ]
  },
  {
   "cell_type": "code",
   "execution_count": 2,
   "metadata": {},
   "outputs": [
    {
     "data": {
      "text/html": [
       "<div>\n",
       "<style scoped>\n",
       "    .dataframe tbody tr th:only-of-type {\n",
       "        vertical-align: middle;\n",
       "    }\n",
       "\n",
       "    .dataframe tbody tr th {\n",
       "        vertical-align: top;\n",
       "    }\n",
       "\n",
       "    .dataframe thead th {\n",
       "        text-align: right;\n",
       "    }\n",
       "</style>\n",
       "<table border=\"1\" class=\"dataframe\">\n",
       "  <thead>\n",
       "    <tr style=\"text-align: right;\">\n",
       "      <th></th>\n",
       "      <th>HDR</th>\n",
       "      <th>ROLLING SYSTEM DEMAND</th>\n",
       "    </tr>\n",
       "  </thead>\n",
       "  <tbody>\n",
       "    <tr>\n",
       "      <th>VD</th>\n",
       "      <td>20201014000000</td>\n",
       "      <td>23408.0</td>\n",
       "    </tr>\n",
       "    <tr>\n",
       "      <th>VD</th>\n",
       "      <td>20201014000500</td>\n",
       "      <td>23484.0</td>\n",
       "    </tr>\n",
       "    <tr>\n",
       "      <th>VD</th>\n",
       "      <td>20201014001000</td>\n",
       "      <td>23431.0</td>\n",
       "    </tr>\n",
       "    <tr>\n",
       "      <th>VD</th>\n",
       "      <td>20201014001500</td>\n",
       "      <td>23364.0</td>\n",
       "    </tr>\n",
       "    <tr>\n",
       "      <th>VD</th>\n",
       "      <td>20201014002000</td>\n",
       "      <td>23404.0</td>\n",
       "    </tr>\n",
       "    <tr>\n",
       "      <th>...</th>\n",
       "      <td>...</td>\n",
       "      <td>...</td>\n",
       "    </tr>\n",
       "    <tr>\n",
       "      <th>VD</th>\n",
       "      <td>20201017234000</td>\n",
       "      <td>22607.0</td>\n",
       "    </tr>\n",
       "    <tr>\n",
       "      <th>VD</th>\n",
       "      <td>20201017234500</td>\n",
       "      <td>22606.0</td>\n",
       "    </tr>\n",
       "    <tr>\n",
       "      <th>VD</th>\n",
       "      <td>20201017235000</td>\n",
       "      <td>22531.0</td>\n",
       "    </tr>\n",
       "    <tr>\n",
       "      <th>VD</th>\n",
       "      <td>20201017235500</td>\n",
       "      <td>22456.0</td>\n",
       "    </tr>\n",
       "    <tr>\n",
       "      <th>FTR</th>\n",
       "      <td>1152</td>\n",
       "      <td>NaN</td>\n",
       "    </tr>\n",
       "  </tbody>\n",
       "</table>\n",
       "<p>1153 rows × 2 columns</p>\n",
       "</div>"
      ],
      "text/plain": [
       "                HDR  ROLLING SYSTEM DEMAND\n",
       "VD   20201014000000                23408.0\n",
       "VD   20201014000500                23484.0\n",
       "VD   20201014001000                23431.0\n",
       "VD   20201014001500                23364.0\n",
       "VD   20201014002000                23404.0\n",
       "..              ...                    ...\n",
       "VD   20201017234000                22607.0\n",
       "VD   20201017234500                22606.0\n",
       "VD   20201017235000                22531.0\n",
       "VD   20201017235500                22456.0\n",
       "FTR            1152                    NaN\n",
       "\n",
       "[1153 rows x 2 columns]"
      ]
     },
     "execution_count": 2,
     "metadata": {},
     "output_type": "execute_result"
    }
   ],
   "source": [
    "power_data2 = pd.read_csv(r'RollingSystemDemand_20201018_2111.csv')\n",
    "power_data2"
   ]
  },
  {
   "cell_type": "markdown",
   "metadata": {},
   "source": [
    "## Now procure a chart that represents power consumption on October 7th 2020: "
   ]
  },
  {
   "cell_type": "code",
   "execution_count": 3,
   "metadata": {},
   "outputs": [],
   "source": [
    "power_charge = [power_data1, power_data2]"
   ]
  },
  {
   "cell_type": "code",
   "execution_count": 4,
   "metadata": {
    "scrolled": true
   },
   "outputs": [
    {
     "data": {
      "text/html": [
       "<div>\n",
       "<style scoped>\n",
       "    .dataframe tbody tr th:only-of-type {\n",
       "        vertical-align: middle;\n",
       "    }\n",
       "\n",
       "    .dataframe tbody tr th {\n",
       "        vertical-align: top;\n",
       "    }\n",
       "\n",
       "    .dataframe thead th {\n",
       "        text-align: right;\n",
       "    }\n",
       "</style>\n",
       "<table border=\"1\" class=\"dataframe\">\n",
       "  <thead>\n",
       "    <tr style=\"text-align: right;\">\n",
       "      <th></th>\n",
       "      <th>HDR</th>\n",
       "      <th>ROLLING SYSTEM DEMAND</th>\n",
       "    </tr>\n",
       "  </thead>\n",
       "  <tbody>\n",
       "    <tr>\n",
       "      <th>VD</th>\n",
       "      <td>20201007000000</td>\n",
       "      <td>21753.0</td>\n",
       "    </tr>\n",
       "    <tr>\n",
       "      <th>VD</th>\n",
       "      <td>20201007000500</td>\n",
       "      <td>21789.0</td>\n",
       "    </tr>\n",
       "    <tr>\n",
       "      <th>VD</th>\n",
       "      <td>20201007001000</td>\n",
       "      <td>21864.0</td>\n",
       "    </tr>\n",
       "    <tr>\n",
       "      <th>VD</th>\n",
       "      <td>20201007001500</td>\n",
       "      <td>21950.0</td>\n",
       "    </tr>\n",
       "    <tr>\n",
       "      <th>VD</th>\n",
       "      <td>20201007002000</td>\n",
       "      <td>21880.0</td>\n",
       "    </tr>\n",
       "    <tr>\n",
       "      <th>...</th>\n",
       "      <td>...</td>\n",
       "      <td>...</td>\n",
       "    </tr>\n",
       "    <tr>\n",
       "      <th>VD</th>\n",
       "      <td>20201017233500</td>\n",
       "      <td>22607.0</td>\n",
       "    </tr>\n",
       "    <tr>\n",
       "      <th>VD</th>\n",
       "      <td>20201017234000</td>\n",
       "      <td>22607.0</td>\n",
       "    </tr>\n",
       "    <tr>\n",
       "      <th>VD</th>\n",
       "      <td>20201017234500</td>\n",
       "      <td>22606.0</td>\n",
       "    </tr>\n",
       "    <tr>\n",
       "      <th>VD</th>\n",
       "      <td>20201017235000</td>\n",
       "      <td>22531.0</td>\n",
       "    </tr>\n",
       "    <tr>\n",
       "      <th>VD</th>\n",
       "      <td>20201017235500</td>\n",
       "      <td>22456.0</td>\n",
       "    </tr>\n",
       "  </tbody>\n",
       "</table>\n",
       "<p>3152 rows × 2 columns</p>\n",
       "</div>"
      ],
      "text/plain": [
       "               HDR  ROLLING SYSTEM DEMAND\n",
       "VD  20201007000000                21753.0\n",
       "VD  20201007000500                21789.0\n",
       "VD  20201007001000                21864.0\n",
       "VD  20201007001500                21950.0\n",
       "VD  20201007002000                21880.0\n",
       "..             ...                    ...\n",
       "VD  20201017233500                22607.0\n",
       "VD  20201017234000                22607.0\n",
       "VD  20201017234500                22606.0\n",
       "VD  20201017235000                22531.0\n",
       "VD  20201017235500                22456.0\n",
       "\n",
       "[3152 rows x 2 columns]"
      ]
     },
     "execution_count": 4,
     "metadata": {},
     "output_type": "execute_result"
    }
   ],
   "source": [
    "new_power = pd.concat(power_charge).dropna()\n",
    "new_power"
   ]
  },
  {
   "cell_type": "code",
   "execution_count": 5,
   "metadata": {},
   "outputs": [
    {
     "data": {
      "text/html": [
       "<div>\n",
       "<style scoped>\n",
       "    .dataframe tbody tr th:only-of-type {\n",
       "        vertical-align: middle;\n",
       "    }\n",
       "\n",
       "    .dataframe tbody tr th {\n",
       "        vertical-align: top;\n",
       "    }\n",
       "\n",
       "    .dataframe thead th {\n",
       "        text-align: right;\n",
       "    }\n",
       "</style>\n",
       "<table border=\"1\" class=\"dataframe\">\n",
       "  <thead>\n",
       "    <tr style=\"text-align: right;\">\n",
       "      <th></th>\n",
       "      <th>HDR</th>\n",
       "      <th>ROLLING SYSTEM DEMAND</th>\n",
       "    </tr>\n",
       "  </thead>\n",
       "  <tbody>\n",
       "    <tr>\n",
       "      <th>VD</th>\n",
       "      <td>20201007000000</td>\n",
       "      <td>21753.0</td>\n",
       "    </tr>\n",
       "    <tr>\n",
       "      <th>VD</th>\n",
       "      <td>20201007010000</td>\n",
       "      <td>22396.0</td>\n",
       "    </tr>\n",
       "    <tr>\n",
       "      <th>VD</th>\n",
       "      <td>20201007020000</td>\n",
       "      <td>22260.0</td>\n",
       "    </tr>\n",
       "    <tr>\n",
       "      <th>VD</th>\n",
       "      <td>20201007030000</td>\n",
       "      <td>22446.0</td>\n",
       "    </tr>\n",
       "    <tr>\n",
       "      <th>VD</th>\n",
       "      <td>20201007040000</td>\n",
       "      <td>23436.0</td>\n",
       "    </tr>\n",
       "    <tr>\n",
       "      <th>...</th>\n",
       "      <td>...</td>\n",
       "      <td>...</td>\n",
       "    </tr>\n",
       "    <tr>\n",
       "      <th>VD</th>\n",
       "      <td>20201017192000</td>\n",
       "      <td>33856.0</td>\n",
       "    </tr>\n",
       "    <tr>\n",
       "      <th>VD</th>\n",
       "      <td>20201017202000</td>\n",
       "      <td>30849.0</td>\n",
       "    </tr>\n",
       "    <tr>\n",
       "      <th>VD</th>\n",
       "      <td>20201017212000</td>\n",
       "      <td>27885.0</td>\n",
       "    </tr>\n",
       "    <tr>\n",
       "      <th>VD</th>\n",
       "      <td>20201017222000</td>\n",
       "      <td>25245.0</td>\n",
       "    </tr>\n",
       "    <tr>\n",
       "      <th>VD</th>\n",
       "      <td>20201017232000</td>\n",
       "      <td>22892.0</td>\n",
       "    </tr>\n",
       "  </tbody>\n",
       "</table>\n",
       "<p>263 rows × 2 columns</p>\n",
       "</div>"
      ],
      "text/plain": [
       "               HDR  ROLLING SYSTEM DEMAND\n",
       "VD  20201007000000                21753.0\n",
       "VD  20201007010000                22396.0\n",
       "VD  20201007020000                22260.0\n",
       "VD  20201007030000                22446.0\n",
       "VD  20201007040000                23436.0\n",
       "..             ...                    ...\n",
       "VD  20201017192000                33856.0\n",
       "VD  20201017202000                30849.0\n",
       "VD  20201017212000                27885.0\n",
       "VD  20201017222000                25245.0\n",
       "VD  20201017232000                22892.0\n",
       "\n",
       "[263 rows x 2 columns]"
      ]
     },
     "execution_count": 5,
     "metadata": {},
     "output_type": "execute_result"
    }
   ],
   "source": [
    "ultra_new_power = new_power.iloc[::12,:]\n",
    "ultra_new_power"
   ]
  },
  {
   "cell_type": "code",
   "execution_count": 6,
   "metadata": {
    "scrolled": true
   },
   "outputs": [
    {
     "data": {
      "text/html": [
       "<div>\n",
       "<style scoped>\n",
       "    .dataframe tbody tr th:only-of-type {\n",
       "        vertical-align: middle;\n",
       "    }\n",
       "\n",
       "    .dataframe tbody tr th {\n",
       "        vertical-align: top;\n",
       "    }\n",
       "\n",
       "    .dataframe thead th {\n",
       "        text-align: right;\n",
       "    }\n",
       "</style>\n",
       "<table border=\"1\" class=\"dataframe\">\n",
       "  <thead>\n",
       "    <tr style=\"text-align: right;\">\n",
       "      <th></th>\n",
       "      <th>HDR</th>\n",
       "      <th>ROLLING SYSTEM DEMAND</th>\n",
       "    </tr>\n",
       "  </thead>\n",
       "  <tbody>\n",
       "    <tr>\n",
       "      <th>VD</th>\n",
       "      <td>20201007000000</td>\n",
       "      <td>21753.0</td>\n",
       "    </tr>\n",
       "    <tr>\n",
       "      <th>VD</th>\n",
       "      <td>20201007010000</td>\n",
       "      <td>22396.0</td>\n",
       "    </tr>\n",
       "    <tr>\n",
       "      <th>VD</th>\n",
       "      <td>20201007020000</td>\n",
       "      <td>22260.0</td>\n",
       "    </tr>\n",
       "    <tr>\n",
       "      <th>VD</th>\n",
       "      <td>20201007030000</td>\n",
       "      <td>22446.0</td>\n",
       "    </tr>\n",
       "    <tr>\n",
       "      <th>VD</th>\n",
       "      <td>20201007040000</td>\n",
       "      <td>23436.0</td>\n",
       "    </tr>\n",
       "    <tr>\n",
       "      <th>VD</th>\n",
       "      <td>20201007050000</td>\n",
       "      <td>24703.0</td>\n",
       "    </tr>\n",
       "    <tr>\n",
       "      <th>VD</th>\n",
       "      <td>20201007060000</td>\n",
       "      <td>29413.0</td>\n",
       "    </tr>\n",
       "    <tr>\n",
       "      <th>VD</th>\n",
       "      <td>20201007070000</td>\n",
       "      <td>33184.0</td>\n",
       "    </tr>\n",
       "    <tr>\n",
       "      <th>VD</th>\n",
       "      <td>20201007080000</td>\n",
       "      <td>33784.0</td>\n",
       "    </tr>\n",
       "    <tr>\n",
       "      <th>VD</th>\n",
       "      <td>20201007090000</td>\n",
       "      <td>32639.0</td>\n",
       "    </tr>\n",
       "    <tr>\n",
       "      <th>VD</th>\n",
       "      <td>20201007100000</td>\n",
       "      <td>30466.0</td>\n",
       "    </tr>\n",
       "    <tr>\n",
       "      <th>VD</th>\n",
       "      <td>20201007110000</td>\n",
       "      <td>30132.0</td>\n",
       "    </tr>\n",
       "    <tr>\n",
       "      <th>VD</th>\n",
       "      <td>20201007120000</td>\n",
       "      <td>30354.0</td>\n",
       "    </tr>\n",
       "    <tr>\n",
       "      <th>VD</th>\n",
       "      <td>20201007130000</td>\n",
       "      <td>29494.0</td>\n",
       "    </tr>\n",
       "    <tr>\n",
       "      <th>VD</th>\n",
       "      <td>20201007140000</td>\n",
       "      <td>30342.0</td>\n",
       "    </tr>\n",
       "    <tr>\n",
       "      <th>VD</th>\n",
       "      <td>20201007150000</td>\n",
       "      <td>32738.0</td>\n",
       "    </tr>\n",
       "    <tr>\n",
       "      <th>VD</th>\n",
       "      <td>20201007160000</td>\n",
       "      <td>36122.0</td>\n",
       "    </tr>\n",
       "    <tr>\n",
       "      <th>VD</th>\n",
       "      <td>20201007170000</td>\n",
       "      <td>38304.0</td>\n",
       "    </tr>\n",
       "    <tr>\n",
       "      <th>VD</th>\n",
       "      <td>20201007180000</td>\n",
       "      <td>39831.0</td>\n",
       "    </tr>\n",
       "    <tr>\n",
       "      <th>VD</th>\n",
       "      <td>20201007190000</td>\n",
       "      <td>37291.0</td>\n",
       "    </tr>\n",
       "    <tr>\n",
       "      <th>VD</th>\n",
       "      <td>20201007200000</td>\n",
       "      <td>34514.0</td>\n",
       "    </tr>\n",
       "    <tr>\n",
       "      <th>VD</th>\n",
       "      <td>20201007210000</td>\n",
       "      <td>30826.0</td>\n",
       "    </tr>\n",
       "    <tr>\n",
       "      <th>VD</th>\n",
       "      <td>20201007220000</td>\n",
       "      <td>27094.0</td>\n",
       "    </tr>\n",
       "    <tr>\n",
       "      <th>VD</th>\n",
       "      <td>20201007230000</td>\n",
       "      <td>23733.0</td>\n",
       "    </tr>\n",
       "  </tbody>\n",
       "</table>\n",
       "</div>"
      ],
      "text/plain": [
       "               HDR  ROLLING SYSTEM DEMAND\n",
       "VD  20201007000000                21753.0\n",
       "VD  20201007010000                22396.0\n",
       "VD  20201007020000                22260.0\n",
       "VD  20201007030000                22446.0\n",
       "VD  20201007040000                23436.0\n",
       "VD  20201007050000                24703.0\n",
       "VD  20201007060000                29413.0\n",
       "VD  20201007070000                33184.0\n",
       "VD  20201007080000                33784.0\n",
       "VD  20201007090000                32639.0\n",
       "VD  20201007100000                30466.0\n",
       "VD  20201007110000                30132.0\n",
       "VD  20201007120000                30354.0\n",
       "VD  20201007130000                29494.0\n",
       "VD  20201007140000                30342.0\n",
       "VD  20201007150000                32738.0\n",
       "VD  20201007160000                36122.0\n",
       "VD  20201007170000                38304.0\n",
       "VD  20201007180000                39831.0\n",
       "VD  20201007190000                37291.0\n",
       "VD  20201007200000                34514.0\n",
       "VD  20201007210000                30826.0\n",
       "VD  20201007220000                27094.0\n",
       "VD  20201007230000                23733.0"
      ]
     },
     "execution_count": 6,
     "metadata": {},
     "output_type": "execute_result"
    }
   ],
   "source": [
    "ultra_new_plot = ultra_new_power.iloc[:24,:]\n",
    "ultra_new_plot"
   ]
  },
  {
   "cell_type": "code",
   "execution_count": 7,
   "metadata": {},
   "outputs": [
    {
     "data": {
      "image/png": "[encoded data removed]",
      "text/plain": [
       "<Figure size 432x288 with 1 Axes>"
      ]
     },
     "metadata": {
      "needs_background": "light"
     },
     "output_type": "display_data"
    }
   ],
   "source": [
    "power_plot = sb.barplot(ultra_new_plot['HDR'], ultra_new_plot['ROLLING SYSTEM DEMAND'])\n",
    "super_power_plot = power_plot.set_xticklabels(power_plot.get_xticklabels(), rotation=45)\n",
    "plt.title(\"Power Consumption on October 7th 2020\")\n",
    "super_power_plot;"
   ]
  },
  {
   "cell_type": "markdown",
   "metadata": {},
   "source": [
    "## Now procure a chart that represents power consumption over 10 days: "
   ]
  },
  {
   "cell_type": "code",
   "execution_count": 8,
   "metadata": {
    "scrolled": true
   },
   "outputs": [
    {
     "data": {
      "text/html": [
       "<div>\n",
       "<style scoped>\n",
       "    .dataframe tbody tr th:only-of-type {\n",
       "        vertical-align: middle;\n",
       "    }\n",
       "\n",
       "    .dataframe tbody tr th {\n",
       "        vertical-align: top;\n",
       "    }\n",
       "\n",
       "    .dataframe thead th {\n",
       "        text-align: right;\n",
       "    }\n",
       "</style>\n",
       "<table border=\"1\" class=\"dataframe\">\n",
       "  <thead>\n",
       "    <tr style=\"text-align: right;\">\n",
       "      <th></th>\n",
       "      <th>HDR</th>\n",
       "      <th>ROLLING SYSTEM DEMAND</th>\n",
       "    </tr>\n",
       "  </thead>\n",
       "  <tbody>\n",
       "    <tr>\n",
       "      <th>VD</th>\n",
       "      <td>20201007000000</td>\n",
       "      <td>21753.0</td>\n",
       "    </tr>\n",
       "    <tr>\n",
       "      <th>VD</th>\n",
       "      <td>20201007010000</td>\n",
       "      <td>22396.0</td>\n",
       "    </tr>\n",
       "    <tr>\n",
       "      <th>VD</th>\n",
       "      <td>20201007020000</td>\n",
       "      <td>22260.0</td>\n",
       "    </tr>\n",
       "    <tr>\n",
       "      <th>VD</th>\n",
       "      <td>20201007030000</td>\n",
       "      <td>22446.0</td>\n",
       "    </tr>\n",
       "    <tr>\n",
       "      <th>VD</th>\n",
       "      <td>20201007040000</td>\n",
       "      <td>23436.0</td>\n",
       "    </tr>\n",
       "    <tr>\n",
       "      <th>...</th>\n",
       "      <td>...</td>\n",
       "      <td>...</td>\n",
       "    </tr>\n",
       "    <tr>\n",
       "      <th>VD</th>\n",
       "      <td>20201017192000</td>\n",
       "      <td>33856.0</td>\n",
       "    </tr>\n",
       "    <tr>\n",
       "      <th>VD</th>\n",
       "      <td>20201017202000</td>\n",
       "      <td>30849.0</td>\n",
       "    </tr>\n",
       "    <tr>\n",
       "      <th>VD</th>\n",
       "      <td>20201017212000</td>\n",
       "      <td>27885.0</td>\n",
       "    </tr>\n",
       "    <tr>\n",
       "      <th>VD</th>\n",
       "      <td>20201017222000</td>\n",
       "      <td>25245.0</td>\n",
       "    </tr>\n",
       "    <tr>\n",
       "      <th>VD</th>\n",
       "      <td>20201017232000</td>\n",
       "      <td>22892.0</td>\n",
       "    </tr>\n",
       "  </tbody>\n",
       "</table>\n",
       "<p>263 rows × 2 columns</p>\n",
       "</div>"
      ],
      "text/plain": [
       "               HDR  ROLLING SYSTEM DEMAND\n",
       "VD  20201007000000                21753.0\n",
       "VD  20201007010000                22396.0\n",
       "VD  20201007020000                22260.0\n",
       "VD  20201007030000                22446.0\n",
       "VD  20201007040000                23436.0\n",
       "..             ...                    ...\n",
       "VD  20201017192000                33856.0\n",
       "VD  20201017202000                30849.0\n",
       "VD  20201017212000                27885.0\n",
       "VD  20201017222000                25245.0\n",
       "VD  20201017232000                22892.0\n",
       "\n",
       "[263 rows x 2 columns]"
      ]
     },
     "execution_count": 8,
     "metadata": {},
     "output_type": "execute_result"
    }
   ],
   "source": [
    "new_power = new_power.iloc[::12,:]\n",
    "new_power"
   ]
  },
  {
   "cell_type": "code",
   "execution_count": 9,
   "metadata": {
    "scrolled": true
   },
   "outputs": [
    {
     "data": {
      "image/png": "[encoded data removed]",
      "text/plain": [
       "<Figure size 432x288 with 1 Axes>"
      ]
     },
     "metadata": {
      "needs_background": "light"
     },
     "output_type": "display_data"
    }
   ],
   "source": [
    "boost_plot = sb.barplot(new_power['HDR'], new_power['ROLLING SYSTEM DEMAND'])\n",
    "super_boost_plot = boost_plot.set_xticklabels(boost_plot.get_xticklabels(), rotation=45)\n",
    "plt.title(\"Power Consumption on October 7th-17th 2020\")\n",
    "super_boost_plot;\n"
   ]
  },
  {
   "cell_type": "markdown",
   "metadata": {},
   "source": [
    "### Assignment 2: Prepare a dice game."
   ]
  },
  {
   "cell_type": "code",
   "execution_count": 52,
   "metadata": {},
   "outputs": [],
   "source": [
    "import random\n",
    "\n",
    "class pizza_party():\n",
    "    def biasedpizza():\n",
    "\n",
    "        choco = input(\"Want to play a game of 'Rolling Integers: Biased Edition'? (Reply with a 'yes' or 'no')\")\n",
    "        x = int(input(\"How many rolls would you like? (Reply with an integer)\"))\n",
    "\n",
    "        for i in range(0,x):\n",
    "\n",
    "            biased_sloth = [0.15, 0.15, 0.15, 0.15, 0.15, 0.25]\n",
    "            pepperoni_man = random.choice(biased_sloth)\n",
    "            if choco == \"yes\":\n",
    "                print(\"Initiating Game ...\")\n",
    "                print(\"A roll of \", pepperoni_man, \"has been attained.\")\n",
    "                if pepperoni_man == 0.15: \n",
    "                    zoy = sb.barplot(biased_sloth[1], color= 'blue');\n",
    "                    zoy = zoy.set_facecolor('gold');\n",
    "                    plt.text(0,0, 15, color='gold', size=100);\n",
    "                    plt.show();\n",
    "                if pepperoni_man == 0.25:\n",
    "                    toy = sb.barplot(biased_sloth[5], color= 'blue');\n",
    "                    toy = toy.set_facecolor('gold');\n",
    "                    plt.text(0,0, 25, color='gold', size=100);\n",
    "                    plt.show();\n",
    "    def unbiasedpizza():\n",
    "        choco = input(\"Want to play a game of 'Rolling Integers: Unbiased Edition'? (Reply with a 'yes' or 'no')\")\n",
    "        x = int(input(\"How many rolls would you like? (Reply with an integer)\"))\n",
    "        l = []\n",
    "        for i in range(0,x):\n",
    "            biased_sloth = [1,2,3,4,5,6]\n",
    "            pepperoni_man = random.choice(biased_sloth)\n",
    "            l = []\n",
    "            if choco == \"yes\":\n",
    "                print(\"Initiating Game ...\")\n",
    "                print(\"A roll of \", pepperoni_man, \"has been attained.\")\n",
    "                if pepperoni_man == 1: \n",
    "                    l.append(pepperoni_man)\n",
    "                    zoy = sb.barplot(biased_sloth[0], color= 'blue');\n",
    "                    zoy = zoy.set_facecolor('gold');\n",
    "                    plt.text(0,0, 1, color='gold', size=100);\n",
    "                    plt.show();\n",
    "                if pepperoni_man == 2:\n",
    "                    l.append(pepperoni_man)\n",
    "                    toy = sb.barplot(biased_sloth[1], color= 'blue');\n",
    "                    toy = toy.set_facecolor('gold');\n",
    "                    plt.text(0,0, 2, color='gold', size=100);\n",
    "                    plt.show();\n",
    "                if pepperoni_man == 3:\n",
    "                    l.append(pepperoni_man)\n",
    "                    qoy = sb.barplot(biased_sloth[2], color= 'blue');\n",
    "                    qoy = qoy.set_facecolor('gold');\n",
    "                    plt.text(0,0, 3, color='gold', size=100);\n",
    "                    plt.show();\n",
    "                if pepperoni_man == 4:\n",
    "                    l.append(pepperoni_man)\n",
    "                    voy = sb.barplot(biased_sloth[3], color= 'blue');\n",
    "                    voy = voy.set_facecolor('gold');\n",
    "                    plt.text(0,0, 4, color='gold', size=100);\n",
    "                    plt.show();\n",
    "                if pepperoni_man == 5:\n",
    "                    l.append(pepperoni_man)\n",
    "                    loy = sb.barplot(biased_sloth[4], color= 'blue');\n",
    "                    loy = loy.set_facecolor('gold');\n",
    "                    plt.text(0,0, 5, color='gold', size=100);\n",
    "                    plt.show();\n",
    "                if pepperoni_man == 6:\n",
    "                    l.append(pepperoni_man)\n",
    "                    boy = sb.barplot(biased_sloth[5], color= 'blue');\n",
    "                    boy = boy.set_facecolor('gold');\n",
    "                    plt.text(0,0, 6, color='gold', size=100);\n",
    "                    plt.show();\n",
    "        \n",
    "        return l\n",
    "\n",
    "        \n",
    "\n",
    "\n"
   ]
  },
  {
   "cell_type": "code",
   "execution_count": 29,
   "metadata": {},
   "outputs": [
    {
     "name": "stdout",
     "output_type": "stream",
     "text": [
      "Want to play a game of 'Rolling Integers: Biased Edition'? (Reply with a 'yes' or 'no')yes\n",
      "How many rolls would you like? (Reply with an integer)10\n",
      "Initiating Game ...\n",
      "A roll of  0.15 has been attained.\n"
     ]
    },
    {
     "data": {
      "image/png": "[encoded data removed]",
      "text/plain": [
       "<Figure size 432x288 with 1 Axes>"
      ]
     },
     "metadata": {
      "needs_background": "light"
     },
     "output_type": "display_data"
    },
    {
     "name": "stdout",
     "output_type": "stream",
     "text": [
      "Initiating Game ...\n",
      "A roll of  0.15 has been attained.\n"
     ]
    },
    {
     "data": {
      "image/png": "[encoded data removed]",
      "text/plain": [
       "<Figure size 432x288 with 1 Axes>"
      ]
     },
     "metadata": {
      "needs_background": "light"
     },
     "output_type": "display_data"
    },
    {
     "name": "stdout",
     "output_type": "stream",
     "text": [
      "Initiating Game ...\n",
      "A roll of  0.15 has been attained.\n"
     ]
    },
    {
     "data": {
      "image/png": "[encoded data removed]",
      "text/plain": [
       "<Figure size 432x288 with 1 Axes>"
      ]
     },
     "metadata": {
      "needs_background": "light"
     },
     "output_type": "display_data"
    },
    {
     "name": "stdout",
     "output_type": "stream",
     "text": [
      "Initiating Game ...\n",
      "A roll of  0.25 has been attained.\n"
     ]
    },
    {
     "data": {
      "image/png": "[encoded data removed]",
      "text/plain": [
       "<Figure size 432x288 with 1 Axes>"
      ]
     },
     "metadata": {
      "needs_background": "light"
     },
     "output_type": "display_data"
    },
    {
     "name": "stdout",
     "output_type": "stream",
     "text": [
      "Initiating Game ...\n",
      "A roll of  0.15 has been attained.\n"
     ]
    },
    {
     "data": {
      "image/png": "[encoded data removed]",
      "text/plain": [
       "<Figure size 432x288 with 1 Axes>"
      ]
     },
     "metadata": {
      "needs_background": "light"
     },
     "output_type": "display_data"
    },
    {
     "name": "stdout",
     "output_type": "stream",
     "text": [
      "Initiating Game ...\n",
      "A roll of  0.15 has been attained.\n"
     ]
    },
    {
     "data": {
      "image/png": "[encoded data removed]",
      "text/plain": [
       "<Figure size 432x288 with 1 Axes>"
      ]
     },
     "metadata": {
      "needs_background": "light"
     },
     "output_type": "display_data"
    },
    {
     "name": "stdout",
     "output_type": "stream",
     "text": [
      "Initiating Game ...\n",
      "A roll of  0.15 has been attained.\n"
     ]
    },
    {
     "data": {
      "image/png": "[encoded data removed]",
      "text/plain": [
       "<Figure size 432x288 with 1 Axes>"
      ]
     },
     "metadata": {
      "needs_background": "light"
     },
     "output_type": "display_data"
    },
    {
     "name": "stdout",
     "output_type": "stream",
     "text": [
      "Initiating Game ...\n",
      "A roll of  0.15 has been attained.\n"
     ]
    },
    {
     "data": {
      "image/png": "[encoded data removed]",
      "text/plain": [
       "<Figure size 432x288 with 1 Axes>"
      ]
     },
     "metadata": {
      "needs_background": "light"
     },
     "output_type": "display_data"
    },
    {
     "name": "stdout",
     "output_type": "stream",
     "text": [
      "Initiating Game ...\n",
      "A roll of  0.15 has been attained.\n"
     ]
    },
    {
     "data": {
      "image/png": "[encoded data removed]",
      "text/plain": [
       "<Figure size 432x288 with 1 Axes>"
      ]
     },
     "metadata": {
      "needs_background": "light"
     },
     "output_type": "display_data"
    },
    {
     "name": "stdout",
     "output_type": "stream",
     "text": [
      "Initiating Game ...\n",
      "A roll of  0.25 has been attained.\n"
     ]
    },
    {
     "data": {
      "image/png": "[encoded data removed]",
      "text/plain": [
       "<Figure size 432x288 with 1 Axes>"
      ]
     },
     "metadata": {
      "needs_background": "light"
     },
     "output_type": "display_data"
    }
   ],
   "source": [
    "pizza_party.biasedpizza()"
   ]
  },
  {
   "cell_type": "code",
   "execution_count": null,
   "metadata": {
    "scrolled": true
   },
   "outputs": [
    {
     "name": "stdout",
     "output_type": "stream",
     "text": [
      "Want to play a game of 'Rolling Integers: Unbiased Edition'? (Reply with a 'yes' or 'no')yes\n",
      "How many rolls would you like? (Reply with an integer)10\n",
      "Initiating Game ...\n",
      "A roll of  3 has been attained.\n"
     ]
    },
    {
     "data": {
      "image/png": "[encoded data removed]",
      "text/plain": [
       "<Figure size 432x288 with 1 Axes>"
      ]
     },
     "metadata": {
      "needs_background": "light"
     },
     "output_type": "display_data"
    },
    {
     "name": "stdout",
     "output_type": "stream",
     "text": [
      "Initiating Game ...\n",
      "A roll of  3 has been attained.\n"
     ]
    },
    {
     "data": {
      "image/png": "[encoded data removed]",
      "text/plain": [
       "<Figure size 432x288 with 1 Axes>"
      ]
     },
     "metadata": {
      "needs_background": "light"
     },
     "output_type": "display_data"
    },
    {
     "name": "stdout",
     "output_type": "stream",
     "text": [
      "Initiating Game ...\n",
      "A roll of  6 has been attained.\n"
     ]
    },
    {
     "data": {
      "image/png": "[encoded data removed]",
      "text/plain": [
       "<Figure size 432x288 with 1 Axes>"
      ]
     },
     "metadata": {
      "needs_background": "light"
     },
     "output_type": "display_data"
    },
    {
     "name": "stdout",
     "output_type": "stream",
     "text": [
      "Initiating Game ...\n",
      "A roll of  3 has been attained.\n"
     ]
    },
    {
     "data": {
      "image/png": "[encoded data removed]",
      "text/plain": [
       "<Figure size 432x288 with 1 Axes>"
      ]
     },
     "metadata": {
      "needs_background": "light"
     },
     "output_type": "display_data"
    },
    {
     "name": "stdout",
     "output_type": "stream",
     "text": [
      "Initiating Game ...\n",
      "A roll of  3 has been attained.\n"
     ]
    },
    {
     "data": {
      "image/png": "[encoded data removed]",
      "text/plain": [
       "<Figure size 432x288 with 1 Axes>"
      ]
     },
     "metadata": {
      "needs_background": "light"
     },
     "output_type": "display_data"
    },
    {
     "name": "stdout",
     "output_type": "stream",
     "text": [
      "Initiating Game ...\n",
      "A roll of  5 has been attained.\n"
     ]
    },
    {
     "data": {
      "image/png": "[encoded data removed]",
      "text/plain": [
       "<Figure size 432x288 with 1 Axes>"
      ]
     },
     "metadata": {
      "needs_background": "light"
     },
     "output_type": "display_data"
    },
    {
     "name": "stdout",
     "output_type": "stream",
     "text": [
      "Initiating Game ...\n",
      "A roll of  4 has been attained.\n"
     ]
    },
    {
     "data": {
      "image/png": "[encoded data removed]",
      "text/plain": [
       "<Figure size 432x288 with 1 Axes>"
      ]
     },
     "metadata": {
      "needs_background": "light"
     },
     "output_type": "display_data"
    },
    {
     "name": "stdout",
     "output_type": "stream",
     "text": [
      "Initiating Game ...\n",
      "A roll of  4 has been attained.\n"
     ]
    }
   ],
   "source": [
    "pizza_party.unbiasedpizza()"
   ]
  },
  {
   "cell_type": "code",
   "execution_count": null,
   "metadata": {},
   "outputs": [],
   "source": [
    "for i in range(0,10):\n",
    "    "
   ]
  }
 ],
 "metadata": {
  "kernelspec": {
   "display_name": "Python 3",
   "language": "python",
   "name": "python3"
  },
  "language_info": {
   "codemirror_mode": {
    "name": "ipython",
    "version": 3
   },
   "file_extension": ".py",
   "mimetype": "text/x-python",
   "name": "python",
   "nbconvert_exporter": "python",
   "pygments_lexer": "ipython3",
   "version": "3.7.6"
  }
 },
 "nbformat": 4,
 "nbformat_minor": 4
}
